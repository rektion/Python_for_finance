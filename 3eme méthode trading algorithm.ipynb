{
 "cells": [
  {
   "cell_type": "code",
   "execution_count": 1,
   "metadata": {},
   "outputs": [],
   "source": [
    "import numpy\n",
    "import matplotlib.pyplot as plt\n",
    "import copy\n",
    "import random\n",
    "import csv"
   ]
  },
  {
   "cell_type": "code",
   "execution_count": 2,
   "metadata": {},
   "outputs": [],
   "source": [
    "# Dans cette dernière partie, nous allons créer un \"jeu\" qui permet d'acheter ou de vendre\n",
    "# une partie de ses fonds suivant le stock marcket du jour.\n",
    "# - qui est en fait le stock market des 10 dernières années -\n",
    "\n",
    "# Puis nous alons générer un nombre très important 'traders' prenant de décisions d'achat et de ventes aléatoires\n",
    "# Nous allons conserver les historiques de ceux ayant performé"
   ]
  },
  {
   "cell_type": "code",
   "execution_count": 3,
   "metadata": {},
   "outputs": [],
   "source": [
    "# balance, number of barrels, estimated total balance, buy_or_sell_ratio, price\n",
    "n_children = 4\n",
    "epsilon = 0.02"
   ]
  },
  {
   "cell_type": "code",
   "execution_count": 4,
   "metadata": {},
   "outputs": [],
   "source": [
    "# Le dataset ici est le crude oil market car il est très stable sur le long terme\n",
    "\n",
    "def load_oil():\n",
    "    f = open('crude_oil.csv', 'rb').readlines()[2:]\n",
    "    raw = []\n",
    "    for b_line in f:\n",
    "        line = b_line.decode(\"utf-8\")\n",
    "        raw.append(float(line))\n",
    "    return raw"
   ]
  },
  {
   "cell_type": "code",
   "execution_count": 5,
   "metadata": {},
   "outputs": [],
   "source": [
    "raw = load_oil()\n",
    "length = len(raw)\n",
    "TRAIN_SIZE = int(length*0.8)"
   ]
  },
  {
   "cell_type": "code",
   "execution_count": 6,
   "metadata": {},
   "outputs": [],
   "source": [
    "# Fonction qui permet de stocker la décision d'un jour dans l'historique de trading\n",
    "\n",
    "def step_history(buy_or_sell_ratio, price, historyy):\n",
    "    previous = historyy[len(historyy)-1]\n",
    "    if buy_or_sell_ratio == 0:\n",
    "        historyy.append([previous[0], previous[1], previous[2], 0, price])\n",
    "    else:\n",
    "        if buy_or_sell_ratio > 0:  # we buy\n",
    "            amount_in_order = previous[0]*buy_or_sell_ratio\n",
    "            balance = previous[0] - amount_in_order\n",
    "            n_barrels = previous[1] + amount_in_order/price\n",
    "        else: # we sell\n",
    "            amount_in_order = previous[1]*(-buy_or_sell_ratio)\n",
    "            balance = previous[0] + amount_in_order*price\n",
    "            n_barrels = previous[1] - amount_in_order\n",
    "        estimated_total_balance = balance + n_barrels*price\n",
    "        historyy.append([balance, n_barrels, estimated_total_balance, buy_or_sell_ratio, price])\n",
    "    return historyy"
   ]
  },
  {
   "cell_type": "code",
   "execution_count": 8,
   "metadata": {},
   "outputs": [],
   "source": [
    "# Fonction qui permet - à partir de 50 traders - de générer\n",
    "# 200 enfants avec des choix de décisions proches de celles\n",
    "# des parents. Le nombre d'enfants en modifiable\n",
    "\n",
    "def calculate_next_gen(historys):\n",
    "    next_gen = []\n",
    "    history = [[1000, 0, 1000, 0, 90.99]]\n",
    "    historys.sort(key=lambda x: x[len(x)-1][2])\n",
    "    for j in range(0, 49, 2): # Pour chaque couple\n",
    "        for n in range(0, n_children): # On créé 4 enfants\n",
    "            for i in range(1,len(historys[0])):\n",
    "                avg = (historys[j][i][3] + historys[j+1][i][3])/2 # Chaque enfant reprend les gènes des parents\n",
    "                avg = avg + numpy.random.normal(0, abs(epsilon*avg)) # Avec une petite variation epsilon\n",
    "                if avg < -1:\n",
    "                    avg = -1\n",
    "                elif avg > 1:\n",
    "                    avg = 1\n",
    "                step_history(avg, historys[0][i][4], history)\n",
    "            next_gen.append(copy.copy(history))\n",
    "            del history\n",
    "            history = [[1000, 0, 1000, 0, 90.99]]\n",
    "    del historys\n",
    "    next_gen.sort(key=lambda x: x[len(x)-1][2])\n",
    "    next_gen = next_gen[-50:] # Seul les 50 meilleurs sont ajoutés à la prochaine génération\n",
    "    return next_gen"
   ]
  },
  {
   "cell_type": "code",
   "execution_count": 9,
   "metadata": {},
   "outputs": [],
   "source": [
    "# Permet de générer la génération initiale aléatoirement\n",
    "# Ici la séléction naturelle est de 6000\n",
    "# Cela prend ~1h sur mon pc mais vous pouvez baisser\n",
    "# La valeur à 4000 et cela prend quelques minutes\n",
    "\n",
    "def init_parents():\n",
    "    historys = []\n",
    "    history = [[1000, 0, 1000, 0, 90.99]]\n",
    "    while len(historys) < 50: # Création des 50 parents\n",
    "        for elem in raw:\n",
    "            step_history(random.uniform(-1, 1), elem, history)\n",
    "        if history[len(history)-1][2] > 6000: # On m'appelle la sélection naturelle\n",
    "            historys.append(copy.copy(history))\n",
    "        del history\n",
    "        history = [[1000, 0, 1000, 0, 90.99]]\n",
    "    return historys"
   ]
  },
  {
   "cell_type": "code",
   "execution_count": 10,
   "metadata": {},
   "outputs": [],
   "source": [
    "# Gènère N générations à partir de rien\n",
    "# Stoque les résultats dans un csv\n",
    "\n",
    "def make_n_generation(n):\n",
    "    next_gen = init_parents()\n",
    "    for j in range(1,n+1):\n",
    "        history = [[1000, 0, 1000, 0, 90.99]]\n",
    "        next_gen = calculate_next_gen(next_gen)\n",
    "        del history\n",
    "    for j in range(len(next_gen)):\n",
    "        with open(\"trader_data\\\\trader\" + str(j) + \".csv\", 'w', newline='') as file:\n",
    "            writer = csv.writer(file)\n",
    "            writer.writerow([\"balance\", \"n_barrels\", \"estimated_total_balance\", \"buy_or_sell_ratio\", \"price\"])\n",
    "            for k in range(len(next_gen[j])):\n",
    "                writer.writerow([next_gen[j][k][0], next_gen[j][k][1], next_gen[j][k][2], next_gen[j][k][3], next_gen[j][k][4]])"
   ]
  },
  {
   "cell_type": "code",
   "execution_count": null,
   "metadata": {},
   "outputs": [],
   "source": [
    "make_n_generation(6)\n",
    "\n",
    "# La suite dans la deuxième partie"
   ]
  }
 ],
 "metadata": {
  "kernelspec": {
   "display_name": "Python 3",
   "language": "python",
   "name": "python3"
  },
  "language_info": {
   "codemirror_mode": {
    "name": "ipython",
    "version": 3
   },
   "file_extension": ".py",
   "mimetype": "text/x-python",
   "name": "python",
   "nbconvert_exporter": "python",
   "pygments_lexer": "ipython3",
   "version": "3.7.9"
  }
 },
 "nbformat": 4,
 "nbformat_minor": 4
}
