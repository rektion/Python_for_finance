{
 "cells": [
  {
   "cell_type": "code",
   "execution_count": 1,
   "metadata": {},
   "outputs": [],
   "source": [
    "import tensorflow.keras.layers as lyrs\n",
    "import tensorflow.keras.models as mod\n",
    "import sklearn.preprocessing as prepro\n",
    "import numpy\n",
    "import matplotlib.pyplot as plt\n",
    "import copy"
   ]
  },
  {
   "cell_type": "code",
   "execution_count": 2,
   "metadata": {},
   "outputs": [],
   "source": [
    "def load_nasdaq():\n",
    "    f = open('nasdaq100.csv', 'rb').readlines()[1:]\n",
    "    raw_max = []\n",
    "    raw_min = []\n",
    "    raw_dates = []\n",
    "    for b_line in f:\n",
    "        line = b_line.decode(\"utf-8\")\n",
    "        min_price = float(line.split(',')[3])\n",
    "        max_price = float(line.split(',')[2])\n",
    "        raw_min.append(min_price)\n",
    "        raw_max.append(max_price)\n",
    "    return raw_max, raw_min"
   ]
  },
  {
   "cell_type": "code",
   "execution_count": 3,
   "metadata": {},
   "outputs": [],
   "source": [
    "raw_max, raw_min = load_nasdaq()\n",
    "raw_raw_max = copy.copy(raw_max)\n",
    "raw_max = prepro.scale(raw_max)\n",
    "raw_min = prepro.scale(raw_min)\n",
    "length = len(raw_max)\n",
    "TRAIN_SIZE = int(length*0.8)"
   ]
  },
  {
   "cell_type": "code",
   "execution_count": 4,
   "metadata": {},
   "outputs": [],
   "source": [
    "train_min = []\n",
    "test_min = []\n",
    "train_target_min = []\n",
    "test_target_min = []\n",
    "\n",
    "train_max = []\n",
    "test_max = []\n",
    "train_target_max = []\n",
    "test_target_max = []"
   ]
  },
  {
   "cell_type": "code",
   "execution_count": 5,
   "metadata": {},
   "outputs": [],
   "source": [
    "for i in range(31, length):\n",
    "    if i < TRAIN_SIZE:\n",
    "        train_min.append(raw_min[i-31:i-1])\n",
    "        train_max.append(raw_max[i-31:i-1])\n",
    "        train_target_min.append(raw_min[i])\n",
    "        train_target_max.append(raw_max[i])\n",
    "    else:\n",
    "        test_min.append(raw_min[i-31:i-1])\n",
    "        test_max.append(raw_max[i-31:i-1])\n",
    "        test_target_min.append(raw_min[i])\n",
    "        test_target_max.append(raw_max[i])"
   ]
  },
  {
   "cell_type": "code",
   "execution_count": 6,
   "metadata": {},
   "outputs": [],
   "source": [
    "train_min = numpy.array(train_min)\n",
    "train_target_min = numpy.array(train_target_min)\n",
    "test_min = numpy.array(test_min)\n",
    "test_target_min = numpy.array(test_target_min)\n",
    "\n",
    "train_max = numpy.array(train_max)\n",
    "train_target_max = numpy.array(train_target_max)\n",
    "test_max = numpy.array(test_max)\n",
    "test_target_max = numpy.array(test_target_max)"
   ]
  },
  {
   "cell_type": "code",
   "execution_count": 7,
   "metadata": {},
   "outputs": [],
   "source": [
    "model_min = mod.Sequential()\n",
    "model_min.add(lyrs.Dense(500, input_shape = (30,)))\n",
    "model_min.add(lyrs.Activation('relu'))\n",
    "model_min.add(lyrs.Dropout(0.25))\n",
    "model_min.add(lyrs.Dense(250))\n",
    "model_min.add(lyrs.Activation('relu'))\n",
    "model_min.add(lyrs.Dense(1))\n",
    "model_min.add(lyrs.Activation('linear'))\n",
    "model_min.compile(optimizer=\"adam\", loss='mse')"
   ]
  },
  {
   "cell_type": "code",
   "execution_count": 8,
   "metadata": {},
   "outputs": [],
   "source": [
    "model_max = mod.Sequential()\n",
    "model_max.add(lyrs.Dense(500, input_shape = (30,)))\n",
    "model_max.add(lyrs.Activation('relu'))\n",
    "model_max.add(lyrs.Dropout(0.25))\n",
    "model_max.add(lyrs.Dense(250))\n",
    "model_max.add(lyrs.Activation('relu'))\n",
    "model_max.add(lyrs.Dense(1))\n",
    "model_max.add(lyrs.Activation('linear'))\n",
    "model_max.compile(optimizer=\"adam\", loss='mse')"
   ]
  },
  {
   "cell_type": "code",
   "execution_count": 9,
   "metadata": {},
   "outputs": [
    {
     "name": "stdout",
     "output_type": "stream",
     "text": [
      "Epoch 1/6\n",
      "8/8 [==============================] - 0s 11ms/step - loss: 0.2080 - val_loss: 0.2121\n",
      "Epoch 2/6\n",
      "8/8 [==============================] - 0s 4ms/step - loss: 0.0464 - val_loss: 0.0996\n",
      "Epoch 3/6\n",
      "8/8 [==============================] - 0s 3ms/step - loss: 0.0247 - val_loss: 0.0572\n",
      "Epoch 4/6\n",
      "8/8 [==============================] - 0s 3ms/step - loss: 0.0141 - val_loss: 0.0300\n",
      "Epoch 5/6\n",
      "8/8 [==============================] - 0s 4ms/step - loss: 0.0091 - val_loss: 0.0294\n",
      "Epoch 6/6\n",
      "8/8 [==============================] - 0s 3ms/step - loss: 0.0093 - val_loss: 0.0733\n",
      "8/8 [==============================] - 0s 750us/step - loss: 0.0048\n",
      "0.004785377532243729\n"
     ]
    }
   ],
   "source": [
    "history_min = model_min.fit(train_min, \n",
    "          train_target_min, \n",
    "          epochs=6,\n",
    "          batch_size = 128, \n",
    "          verbose=1, \n",
    "          validation_data=(test_min, test_target_min))\n",
    "score_min = model_min.evaluate(train_min, train_target_min, batch_size=128)\n",
    "print(score_min)\n",
    "predicted_min = model_min.predict(test_min)"
   ]
  },
  {
   "cell_type": "code",
   "execution_count": 10,
   "metadata": {},
   "outputs": [
    {
     "name": "stdout",
     "output_type": "stream",
     "text": [
      "Epoch 1/6\n",
      "1/8 [==>...........................] - ETA: 0s - loss: 0.0059WARNING:tensorflow:Callbacks method `on_test_batch_begin` is slow compared to the batch time (batch time: 0.0000s vs `on_test_batch_begin` time: 0.0010s). Check your callbacks.\n",
      "8/8 [==============================] - 0s 6ms/step - loss: 0.0065 - val_loss: 0.0462\n",
      "Epoch 2/6\n",
      "8/8 [==============================] - 0s 3ms/step - loss: 0.0062 - val_loss: 0.0216\n",
      "Epoch 3/6\n",
      "8/8 [==============================] - 0s 4ms/step - loss: 0.0055 - val_loss: 0.0156\n",
      "Epoch 4/6\n",
      "8/8 [==============================] - 0s 4ms/step - loss: 0.0058 - val_loss: 0.0157\n",
      "Epoch 5/6\n",
      "8/8 [==============================] - 0s 4ms/step - loss: 0.0051 - val_loss: 0.0252\n",
      "Epoch 6/6\n",
      "8/8 [==============================] - 0s 4ms/step - loss: 0.0046 - val_loss: 0.0259\n",
      "8/8 [==============================] - 0s 686us/step - loss: 0.0026\n",
      "0.002607835689559579\n"
     ]
    }
   ],
   "source": [
    "history_max = model_min.fit(train_max, \n",
    "          train_target_max, \n",
    "          epochs=6,\n",
    "          batch_size = 128, \n",
    "          verbose=1, \n",
    "          validation_data=(test_max, test_target_max))\n",
    "score_max = model_min.evaluate(train_max, train_target_max, batch_size=128)\n",
    "print(score_max)\n",
    "predicted_max = model_min.predict(test_max)"
   ]
  },
  {
   "cell_type": "code",
   "execution_count": 11,
   "metadata": {},
   "outputs": [
    {
     "data": {
      "image/png": "[encoded data removed]",
      "text/plain": [
       "<Figure size 432x288 with 1 Axes>"
      ]
     },
     "metadata": {
      "needs_background": "light"
     },
     "output_type": "display_data"
    }
   ],
   "source": [
    "plt.plot(predicted_max[:250], color='black')\n",
    "plt.plot(test_target_max[:250], color='blue')\n",
    "plt.show()"
   ]
  },
  {
   "cell_type": "code",
   "execution_count": 12,
   "metadata": {},
   "outputs": [],
   "source": [
    "balance = 1000.0\n",
    "actions = 0.0\n",
    "\n",
    "for i in range(1,len(predicted_max)):\n",
    "    if predicted_max[i] > test_target_max[i-1]:\n",
    "        tmp = (1/5)*balance\n",
    "        balance -= tmp\n",
    "        actions += tmp/raw_raw_max[TRAIN_SIZE+i-1]\n",
    "    elif predicted_max[i] < test_target_max[i-1]:\n",
    "        balance += actions * raw_raw_max[TRAIN_SIZE+i-1]\n",
    "        actions = 0.0\n",
    "\n",
    "balance += actions * raw_raw_max[len(raw_raw_max)-1]\n",
    "actions = 0.0"
   ]
  },
  {
   "cell_type": "code",
   "execution_count": 13,
   "metadata": {},
   "outputs": [
    {
     "name": "stdout",
     "output_type": "stream",
     "text": [
      "The initial balance was 1000\n",
      "10 years later :\n",
      "- With trading algorith the balance would be :  1001.4584736272168\n",
      "- With lazy investing, the balance would be :  1506.866118193139\n"
     ]
    }
   ],
   "source": [
    "print(\"The initial balance was 1000\")\n",
    "print(\"10 years later :\")\n",
    "print(\"- With trading algorith the balance would be : \", balance)\n",
    "print(\"- With lazy investing, the balance would be : \", 1000*(raw_raw_max[len(raw_raw_max)-1]/raw_raw_max[TRAIN_SIZE]))"
   ]
  },
  {
   "cell_type": "code",
   "execution_count": 15,
   "metadata": {},
   "outputs": [],
   "source": [
    "# Tenter de prédire la valeur exacte ne semble pas être la meilleure approche\n",
    "# Nous allons tenter une seconde méthode qui consiste à classifier si le marché va monter ou descendre"
   ]
  },
  {
   "cell_type": "code",
   "execution_count": null,
   "metadata": {},
   "outputs": [],
   "source": []
  }
 ],
 "metadata": {
  "kernelspec": {
   "display_name": "Python 3",
   "language": "python",
   "name": "python3"
  },
  "language_info": {
   "codemirror_mode": {
    "name": "ipython",
    "version": 3
   },
   "file_extension": ".py",
   "mimetype": "text/x-python",
   "name": "python",
   "nbconvert_exporter": "python",
   "pygments_lexer": "ipython3",
   "version": "3.7.9"
  }
 },
 "nbformat": 4,
 "nbformat_minor": 4
}
